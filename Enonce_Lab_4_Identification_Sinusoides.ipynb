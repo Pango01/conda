{
 "cells": [
  {
   "cell_type": "markdown",
   "metadata": {},
   "source": [
    "# **Lab IV : Identification des paramètres d'une sinusoïde de fréquence connue**\n",
    "\n",
    "+ **Cours \"Physique du Numérique\"** - Portail René Descartes - AMU\n",
    "\n",
    "Préparé par :\n",
    "\n",
    "- Jean-Marc Themlin (v. 2021-09), Aix-Marseille Université © Contenus à diffusion restreinte, dans le cadre de ce cours.\n",
    "\n",
    "------------------\n",
    "## Introduction\n",
    "\n",
    "Le **produit scalaire**, qui permet de quantifier la ressemblance entre deux signaux numériques $x[n]$ et $y[n]$ définis sur le même domaine, est défini par :\n",
    "$$\n",
    "<s,r>=\\sum_{n=1}^{N} s[n] \\ r^*[n] \\ \\Delta t\n",
    "$$\n",
    "où $\\Delta t$ est la période d'échantillonnage commune aux deux signaux numériques. \n",
    "\n",
    "Dans ce TP, vous allez utiliser le produit scalaire pour déterminer (identifier) l'amplitude $A$ et la phase $\\phi$ d'une (co)sinusoïde discrète $s[n]=A \\ \\cos (2\\pi f_0 t + \\phi)$ de fréquence $f_0$ connue. \n",
    "\n",
    "Nous avons montré au cours l'intérêt d'utiliser le produit scalaire entre $s[n]$ et une exponentielle complexe de référence $r[n]$ (elle fixera notamment l'instant $t=0$ qui détermine le déphasage recherché) à la fréquence $f_0$, la même que celle de $s[n]$. \n",
    "\n",
    "Avec l'hypothèse que la durée du signal est un multiple de $T_0=\\frac{1}{f_0}$, le résultat du produit scalaire entre $s[n]$ et $r[n]$, qui est un nombre complexe, s'exprime en effet :\n",
    "$$\n",
    "\\left\\langle {s,r} \\right\\rangle   \\simeq {A \\over 2}\\;e^{j\\phi } \\;(t_2  - t_1 ) = {A \\over 2}\\;e^{j\\phi } \\;N\\Delta t \n",
    "$$\n",
    " Par conséquent, le calcul numérique du produit scalaire fournit directement les paramètres estimés :\n",
    "$$\n",
    "\\eqalign{\n",
    "  & A_{Est} \\simeq {2 \\over {t_2  - t_1 }}\\;\\left| {\\left\\langle {s,r} \\right\\rangle } \\right|  \\cr \n",
    "  & \\phi_{Est}  \\simeq angle(\\left\\langle {s,r} \\right\\rangle ) \\cr}\n",
    "$$\n",
    "\n",
    "### Programmation : Quelques fonctions Python utiles\n",
    "\n",
    "**Dans la bibliothèque *math* :** *floor(x)*\n",
    "\n",
    "**Dans la bibliothèque *numpy* :** *np.size(t)*, *np.zeros(N)*,   \n",
    "\n",
    "**Dans la bibliothèque *matplotlib.pyplot* :** *plt.subplot(2,1,n=1,2)* \n",
    "\n",
    "\n",
    "\n",
    "------\n",
    "\n",
    "## Problème IV-1 : Paramètres d'une sinusoïde\n",
    "\n",
    "Utilisez la cellule de code ci-dessous pour générer une (co)sinusoïde discrète $s[n]$ "
   ]
  },
  {
   "cell_type": "code",
   "execution_count": null,
   "metadata": {},
   "outputs": [],
   "source": [
    "import numpy as np\n",
    "import matplotlib.pyplot as plt\n",
    "\n",
    "t=np.linspace(-7.5,27,1000)\n",
    "s1=np.sqrt(624)*np.cos(t)\n",
    "plt.plot(t,s1)\n",
    "plt.xlabel('t (s)')\n",
    "plt.ylabel('Signal s(t)')"
   ]
  },
  {
   "cell_type": "code",
   "execution_count": null,
   "metadata": {},
   "outputs": [],
   "source": []
  },
  {
   "cell_type": "markdown",
   "metadata": {},
   "source": [
    "> **Q1**: A partir du graphe, déterminez visuellement les paramètres $(A,f_0,\\phi)$ de cette (co)sinusoïde d'expression générale $=A \\ \\cos (2\\pi f_0 t + \\phi)$.\n",
    "\n",
    "> **Q1-R**: Votre réponse ici :  \n",
    "\n",
    "> **Q2**: En utilisant le vecteur $t$ comme support temporel, vérifiez la validité de votre estimation en superposant au graphe précédent la sinusoïde reconstituée à partir de vos estimations.  \n",
    "\n",
    "> **Q2-R**: Votre réponse ici :  \n",
    "\n",
    "------\n",
    "\n",
    "## Problème IV-2 : Estimer l'amplitude et la phase d'un signal sinusoïdal de fréquence connue $f_0$\n",
    "\n",
    "Utilisez la cellule de code ci-dessous pour construire une fonction Python *apc* pour calculer l'amplitue $A$ et la phase à l'origine $\\phi$ d'un signal (co)sinusoïdal discret $s[n]$ de fréquence connue $f_0$. Les paramètres d'entrée de la fonction seront :\n",
    "\n",
    "- le vecteur support temporel du signal\n",
    "- le signal à analyser (dont vous alles estimer les paramètres)\n",
    "- la fréquence $f_0$ de ce signal"
   ]
  },
  {
   "cell_type": "code",
   "execution_count": null,
   "metadata": {},
   "outputs": [],
   "source": []
  },
  {
   "cell_type": "markdown",
   "metadata": {},
   "source": [
    "### Test de la fonction $apc$\n",
    "\n",
    "#### Test 1\n",
    "\n",
    "Dans la cellule ci-dessous, utilisez le signal généré au IV-1 pour vérifier vos estimations initiales. \n",
    "\n",
    "> **Q3** : Remplissez la table ci-dessous avec les résultats de l'estimation visuelle ($cf$ IV-1) et de l'estimation numérique.\n",
    "\n",
    "|                          | $A_{Est}$ | $\\phi_{Est}$ |\n",
    "| :----------------------: | :-------: | :----------: |\n",
    "|  Estimation \"manuelle\"   |           |              |\n",
    "| Estimation \"automatique\" |           |              |\n",
    "\n",
    "Dans la cellule ci-dessous, pour vérifier la validité de l'estimation, superposez dans un graphe la sinusoïde initiale ($cf$ IV-1) et la (co)sinusoïde générée à partir des paramètres estimés numériquement. \n"
   ]
  },
  {
   "cell_type": "code",
   "execution_count": null,
   "metadata": {},
   "outputs": [],
   "source": []
  },
  {
   "cell_type": "markdown",
   "metadata": {},
   "source": [
    "#### Test 2\n",
    "\n",
    "Vous allez à présent tester le bon fonctionnement de votre fonction *apc* sur un signal de paramètres inconnus, hormis bien sûr sa fréquence $f_0$. Les premières instructions de la cellule ci-dessous vont télécharger dans l'environnement le fichier *lab_data.mat*, qui contient les variables suivantes :\n",
    "\n",
    "- le vecteur support *t_samp*\n",
    "- le vecteur signal *s_samp*, qui contient les échantillons d'une sinusoïde discrète d'une fréquence $f_0=100 \\ Hz$.\n",
    "\n",
    "Les valeurs retournées par votre fonction seront les suivants :\n",
    "\n",
    "- la période d'échantillonnage $\\Delta t$ \n",
    "- le nombre total $N$ de points que contiennent chacun de ces deux vecteurs\n",
    "- la valeur de l'amplitude estimée $A_{Est}$\n",
    "- la valeur de la phase à l'origine estimée $\\phi_{Est}$ \n",
    "\n",
    "Pour vérifier la validité de l'estimation, complétez la cellule de code ci-dessous avec les instructions Python permettant de superposer dans un graphe la sinusoïde initiale (*s_samp* en fonction de *t_samp*) avec la (co)sinusoïde générée à partir des paramètres estimés numériquement. "
   ]
  },
  {
   "cell_type": "code",
   "execution_count": 6,
   "metadata": {},
   "outputs": [
    {
     "name": "stdout",
     "output_type": "stream",
     "text": [
      "200\n",
      "2 (1, 200) 200 0.0005\n"
     ]
    }
   ],
   "source": [
    "#\n",
    "#  Imports from a remote .mat (MatLab) file\n",
    "#\n",
    "import requests\n",
    "from scipy.io import loadmat\n",
    "\n",
    "git_path=\"https://raw.githubusercontent.com/Pango01/Signal00/main/\"\n",
    "r=requests.get(git_path+'lab_data_apc.mat')\n",
    "print(r.status_code)    #  returns 200 if opening is OK\n",
    "\n",
    "with open('mytext.mat', 'wb') as f:\n",
    "    f.write(r.content)\n",
    "data=loadmat('mytext.mat')\n",
    "\n",
    "t=data['t_samp']\n",
    "\n",
    "print(t.ndim, t.shape, t.size, t[0,1])\n",
    "\n",
    "# A compléter avec l'appel à apc \n"
   ]
  },
  {
   "cell_type": "markdown",
   "metadata": {},
   "source": [
    "## Problème IV-3 : Tests de robustesse de la fonction d'estimation *apc*\n",
    "\n",
    "Pour qu'un programme informatique soit opérationnel, il doit être testé de façon très approfondie lors de son développement. Ceci implique notamment d'explorer la plus large zone possible de l'espace des paramètres d'entrée du programme.  \n",
    "\n",
    "### Cas non-idéal : Durée du signal différente d'un multiple de $T_0=\\frac{1}{f_0}$\n",
    "\n",
    "Les formules qui donnent les paramètres estimés ont été établies dans l'hypothèse que la durée du signal est un multiple (entier) de la période du signal $s[n]$, soit $T_0=\\frac{1}{f_0}$. Mais que se passe-t'il si vous appliquez la fonction *apc* sur un signal sinusoïdal qui ne contient pas un nombre entier de périodes $T_0=\\frac{1}{f_0}$ ? \n",
    "\n",
    "Dans la cellule de code ci-dessous, générez le signal indiqué :"
   ]
  },
  {
   "cell_type": "code",
   "execution_count": 7,
   "metadata": {},
   "outputs": [],
   "source": [
    "D=8\n",
    "N=2**8\n",
    "t=np.arange(0,D,1/N)    \n",
    "s=8*np.cos(2*np.pi*t/3)"
   ]
  },
  {
   "cell_type": "markdown",
   "metadata": {},
   "source": [
    "> **Q4** : Que vaut la période de $s[n]$ ? Combien de périodes (chiffre décimal !) contient le signal $s[n]$ ? \n",
    "\n",
    "> **Q4-R** (votre réponse ici) :\n",
    "\n",
    "> **Q5** : Que valent les paramètres $(A,f_0,\\phi)$ de cette (co)sinusoïde d'expression générale $=A \\ \\cos (2\\pi f_0 t + \\phi)$ ? \n",
    "\n",
    "> **Q5-R** (votre réponse ici) : \n",
    "\n",
    "Complétez la cellule de code ci-dessus pour estimer avec *apc* l'amplitude $A_{Est}$ et la phase à l'origine $\\phi_{Est}$ de $s[n]$. \n",
    "\n",
    "Complétez la table ci-dessous en y incluant les écarts absolus ($|A_{Est}-A|$ et $|\\phi_{Est}-\\phi|$) et relatifs ($\\frac{|A_{Est}-A|}{A}$ et $|\\frac{\\phi_{Est}-\\phi}{\\phi}|$) : \n",
    "\n",
    "|                   | Valeur exacte | Valeur estimée | Ecart absolu | Ecart relatif |\n",
    "| :---------------: | :------------ | :------------- | :----------: | :-----------: |\n",
    "|     Amplitude     |               |                |              |               |\n",
    "| Phase à l'origine |               |                |              |               |\n",
    "\n",
    "### Visualiser la dépendance de l'estimation en fonction de la durée de la sinusoïde\n",
    "\n",
    "Il est instructif de rechercher les tendances de l'évolution des valeurs estimées par *apc* en fonction de la durée *D* du signal sinusoïdal. Le but est de produire une figure montrant comment les résultats de l'estimation évoluent avec la longueur du signal. \n",
    "\n",
    "A cet effet, dans la cellule de code ci-dessous, l'idée est d'initialiser un vecteur *Dur* (un *numpy.ndarray* de dimension 1) contenant des valeurs croissantes de la longueur *D* du signal et de son support temporel. \n",
    "\n",
    "Ensuite, on utilisera une boucle `for` d'indice *n* pour construire des vecteurs *t* et *s* de longueur croissante, *t* variant entre 0 et une durée variable contenue dans *Dur[n]*. Dans la même boucle, on applique l'estimateur *apc* et on stocke les valeurs estimées dans deux vecteurs distincts, qui contiendront toutes les valeurs estimées de $A_{est}$ et de $\\phi_{Est}$, qu'on pourra tracer ensuite dans une figure à deux graphes.  \n",
    "\n",
    "Pour fixer les idées, vous pouvez utiliser les paramètres suivants :\n",
    "\n",
    "- Paramètres de la sinusoïde : $(A,f_0,\\phi)=(3,1,-\\pi/2)$ \n",
    "- Un vecteur D contenant des valeurs croissantes entre 0.25 et $D_{Max}=10 s$ \n"
   ]
  },
  {
   "cell_type": "code",
   "execution_count": null,
   "metadata": {},
   "outputs": [],
   "source": []
  },
  {
   "cell_type": "markdown",
   "metadata": {},
   "source": [
    "Le résultat devrait faire apparaître des oscillations ainsi qu'une décroissance asymptotique de l'erreur des estimations fournies par *apc*. En vous basant sur l'examen de la figure, répondez aux questions suivantes :\n",
    "\n",
    "> **Q6** : Pour quelles valeurs (relatives à $f_0$) les estimations de la phase et de l'amplitude égalent-elles les valeurs vraies des paramètres ? De ce fait, proposez une modification de la condition sur la durée (qui doit être égale à un multiple entier de la période $T_0=\\frac{1}{f_0}$) pour obtenir une estimation exacte. \n",
    "\n",
    "> **Q6-R** (votre réponse ici) :\n",
    "\n",
    "> **Q7** : A partir de quelle durée l'estimation de l'amplitude diffère-t'elle de moins de 1% de la valeur vraie ? \n",
    ">\n",
    "> **Indication :** L'instruction ``plt.ylim(A,A*1.01)`` vous permet de restreindre l'échelle en y entre les deux valeurs spécifiées.\n",
    "\n",
    "> **Q7-R** (votre réponse ici) :\n",
    "\n",
    "> **Q8** : On considérant l'allure des courbes, pouvez-vous dire si on on a en moyenne plus de chances d'obtenir une valeur estimée en excès (supérieure à la valeur vraie) ou une valeur estimée par défaut (inférieure à la valeur vraie) ?   \n",
    "\n",
    "> **Q8-R** (votre réponse ici) : \n",
    "\n",
    "### Effet d'une constante ajoutée à $s[n]$\n",
    "\n",
    "- Dans la cellule ci-dessous, générez quelques périodes d'une sinusoïde discrète d'amplitude 1 à laquelle vous ajouterez une constante réelle $C$ (positive ou négative). Affichez le résultat dans une figure.\n",
    "- Testez le comportement de votre fonction *apc* sur ce signal $x[n]=C+s[n]$. Vous testerez plusieurs valeurs de la constante pour valider vos observations et votre conclusion. "
   ]
  },
  {
   "cell_type": "code",
   "execution_count": null,
   "metadata": {},
   "outputs": [],
   "source": []
  },
  {
   "cell_type": "markdown",
   "metadata": {},
   "source": [
    "> **Q9** : Dans quelle mesure l'estimation réalisée par $apc$ est-elle affectée par l'addition d'une valeur constante ?\n",
    "\n",
    "> **Q9-R** (votre réponse ici) : \n",
    "\n",
    "------\n",
    "\n",
    "## Compléments : Autres tests de robustesse de la fonction d'estimation *apc*\n",
    "\n",
    "Vous n'aurez probablement pas le temps d'effectuer ces exercices de compléments lors de la séance de TP en présentiel. Nous vous conseillons pourtant vivement d'essayer de les résoudre par vous-même, car ils sont très instructifs, et qu'ils inspireront certainement les questions de l'examen de TP terminal.  \n",
    "\n",
    "#### Effet d'une incertitude sur la fréquence $f_0$\n",
    "\n",
    "La fréquence $f_0$ de la sinusoïde est connue avec une certaine précision. Dans cette dernière partie, que vous travaillerez en devoir, le but est de tester la validité de l'estimation de l'amplitude et de la phase lorsque la fréquence supposée connue $f_t$, celle que l'on fournit à *apc*, est légèrement différente de la véritable $f_0$.  \n",
    "\n",
    "Dans la cellule ci-dessous, à l'aide d'une boucle `for`, générez un graphe qui permet de visualiser la valeur de l'erreur (absolue ou relative) sur les paramètres estimés $A_{est}$ et $\\phi_{Est}$ en fonction de la valeur de la fréquence $f_t$ fournie à *apc* ; on maintiendra $f_t$ à $\\pm 25\\%$ de sa valeur vraie $f_0$.     \n",
    "\n",
    "```python\n",
    "\n",
    "```\n",
    "\n",
    "> **Q10** : Dans quelle plage de fréquence l'erreur relative sur l'estimation de l'amplitude reste-t'elle inférieure à 40% ? \n",
    "\n",
    "> **Q10-R** (votre réponse ici) : \n",
    "\n"
   ]
  },
  {
   "cell_type": "code",
   "execution_count": null,
   "metadata": {},
   "outputs": [],
   "source": []
  },
  {
   "cell_type": "markdown",
   "metadata": {},
   "source": [
    "#### Effet d'un bruit additif gaussien\n",
    "\n",
    "Si *apc* devait être utilisée pour estimer phase et amplitude de signaux réels (issus de capteurs ou d'un canal de communication), il y a de fortes chances que ces signaux soient affectés d'un bruit plus ou moins intense.\n",
    "\n",
    "On peut très facilement simuler un **bruit additif gaussien** en ajoutant à chaque échantillon du signal des valeurs aléatoires réparties selon une loi normale, i.e. une gaussienne de moyenne $0$ et de variance $\\sigma^2=1$.  En Python, l'instruction `nois=np.random.randn(N)` génère un vecteur *nois* comprenant N valeurs (pseudo-)aléatoires distribuées selon la loi normale. On admettra que la puissance de ce bruit est donnée par la variance $\\sigma^2$. Pour obtenir un bruit additif gaussien de puissance $P_N$, il suffira de multiplier *nois* par la valeur $P_N$. \n",
    "\n",
    "Le **rapport signal-sur-bruit** (en abrégé SNR pour Signal-to-Noise ratio) quantifie en décibels l'amplitude relative du signal utile et du bruit. Il s'exprime ici :\n",
    "$$\n",
    "SNR_{dB}= 10 \\log_{10}\\frac{P_{Signal}}{P_{Noise}} = 10 \\log_{10}\\frac{A²}{σ²}\n",
    "$$\n",
    "où $A$ est l'amplitude de la sinusoïde $s[n]$.\n",
    "\n",
    "- Dans la cellule ci-dessous, générez quelques périodes d'une sinusoïde discrète d'amplitude 1 affectée d'un bruit additif gaussien de puissance $P_N=1$, et affichez le résultat dans une figure. Répétez le processus pour les puissances croissantes $P_N={2,5,20}$, et affichez le résultat dans une unique figure (**Indication** : utilisez `plt.subplot`). \n",
    "- Testez le comportement de votre fonction *apc* sur une sinusoïde d'amplitude fixée à $1$ et une puissance de bruit prenant les valeurs successives $P_N={1,2,5,20}$. Stockez le résultat des estimations successives de l'amplitude et de la phase dans deux vecteurs, et montrez dans une seconde figure leur évolution en fonction de $P_N$.  \n"
   ]
  },
  {
   "cell_type": "code",
   "execution_count": null,
   "metadata": {},
   "outputs": [],
   "source": []
  },
  {
   "cell_type": "markdown",
   "metadata": {},
   "source": [
    "------\n",
    "\n",
    "## Conclusions personnelles\n",
    "\n",
    "Indiquez ci-dessous le temps approximatif que vous passé à travailler ce TP en-dehors de la séance.\n",
    "\n",
    "> **Q11-R** (votre réponse ici) :\n",
    "\n",
    "Ecrivez ci-dessous, en guise de conclusions, quelques phrases décrivant ce que ce TP vous a appris.\n",
    "\n",
    "> **Q12 - R : Conclusions personnelles** (votre réponse ici) :\n",
    "\n",
    "------\n",
    "------"
   ]
  },
  {
   "cell_type": "code",
   "execution_count": null,
   "metadata": {},
   "outputs": [],
   "source": []
  }
 ],
 "metadata": {
  "kernelspec": {
   "display_name": "Python 3",
   "language": "python",
   "name": "python3"
  },
  "language_info": {
   "codemirror_mode": {
    "name": "ipython",
    "version": 3
   },
   "file_extension": ".py",
   "mimetype": "text/x-python",
   "name": "python",
   "nbconvert_exporter": "python",
   "pygments_lexer": "ipython3",
   "version": "3.8.3"
  }
 },
 "nbformat": 4,
 "nbformat_minor": 4
}
